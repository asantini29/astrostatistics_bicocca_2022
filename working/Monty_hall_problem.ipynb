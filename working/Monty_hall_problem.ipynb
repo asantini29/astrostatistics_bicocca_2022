{
 "cells": [
  {
   "cell_type": "markdown",
   "metadata": {},
   "source": [
    "# Monty Hall Problem"
   ]
  },
  {
   "cell_type": "code",
   "execution_count": 24,
   "metadata": {},
   "outputs": [],
   "source": [
    "import numpy as np\n",
    "import matplotlib.pyplot as plt"
   ]
  },
  {
   "cell_type": "code",
   "execution_count": 40,
   "metadata": {},
   "outputs": [],
   "source": [
    "doors = [0, 1, 1] # 0 is the car, 1 is the goat\n",
    "N = 100000\n",
    "cons = np.empty(N) #conservative player\n",
    "switch = np.empty(N) #switcher player\n",
    "new = np.empty(N) #newcomer player"
   ]
  },
  {
   "cell_type": "code",
   "execution_count": 41,
   "metadata": {},
   "outputs": [],
   "source": [
    "for i in range(N):    \n",
    "    choice = np.random.choice(doors)\n",
    "    cons[i] = choice\n",
    "    switch[i] = 1 - choice\n",
    "    new[i] = np.random.choice([0,1])"
   ]
  },
  {
   "cell_type": "code",
   "execution_count": 42,
   "metadata": {},
   "outputs": [
    {
     "data": {
      "image/png": "[encoded data removed]",
      "text/plain": [
       "<Figure size 432x288 with 3 Axes>"
      ]
     },
     "metadata": {
      "needs_background": "light"
     },
     "output_type": "display_data"
    }
   ],
   "source": [
    "fig, axs = plt.subplots(1, 3)\n",
    "axs[0].hist(cons)\n",
    "axs[0].set_title('Conservative')\n",
    "axs[1].hist(switch)\n",
    "axs[1].set_title('Switcher')\n",
    "axs[2].hist(new)\n",
    "axs[2].set_title('Newcomer')\n",
    "\n",
    "for ax in axs.flat:\n",
    "    ax.set(xlabel='result', ylabel='counts')\n",
    "\n",
    "for ax in axs.flat:\n",
    "    ax.label_outer()"
   ]
  },
  {
   "cell_type": "code",
   "execution_count": 43,
   "metadata": {},
   "outputs": [
    {
     "name": "stdout",
     "output_type": "stream",
     "text": [
      "the probability for the conservative is:  0.33282\n",
      "the probability for the switcher is:  0.66718\n",
      "the probability for the newcomer is:  0.49815\n"
     ]
    }
   ],
   "source": [
    "P_cons = len(cons[cons == 0]) /  N \n",
    "P_switch = len(switch[switch == 0]) /  N \n",
    "P_new = len(new[new == 0]) /  N \n",
    "print(\"the probability for the conservative is: \", P_cons)\n",
    "print(\"the probability for the switcher is: \", P_switch)\n",
    "print(\"the probability for the newcomer is: \", P_new)"
   ]
  },
  {
   "cell_type": "markdown",
   "metadata": {},
   "source": [
    "## with 100 doors and 99 goats"
   ]
  },
  {
   "cell_type": "code",
   "execution_count": 57,
   "metadata": {},
   "outputs": [],
   "source": [
    "doors = np.ones(100)\n",
    "doors[0] = 0 \n",
    "N = 50000\n",
    "cons = np.empty(N)\n",
    "switch = np.empty(N)\n",
    "new = np.empty(N)"
   ]
  },
  {
   "cell_type": "code",
   "execution_count": 58,
   "metadata": {},
   "outputs": [],
   "source": [
    "for i in range(N):    \n",
    "    choice = np.random.choice(doors)\n",
    "    cons[i] = choice\n",
    "    switch[i] = 1 - choice\n",
    "    new[i] = np.random.choice([0,1])"
   ]
  },
  {
   "cell_type": "code",
   "execution_count": 62,
   "metadata": {},
   "outputs": [
    {
     "data": {
      "image/png": "[encoded data removed]",
      "text/plain": [
       "<Figure size 432x288 with 3 Axes>"
      ]
     },
     "metadata": {
      "needs_background": "light"
     },
     "output_type": "display_data"
    }
   ],
   "source": [
    "fig, axs = plt.subplots(1, 3)\n",
    "axs[0].hist(cons)\n",
    "axs[0].set_title('Conservative')\n",
    "axs[1].hist(switch)\n",
    "axs[1].set_title('Switcher')\n",
    "axs[2].hist(new)\n",
    "axs[2].set_title('Newcomer')\n",
    "\n",
    "for ax in axs.flat:\n",
    "    ax.set(xlabel='result', ylabel='counts')\n",
    "\n",
    "for ax in axs.flat:\n",
    "    ax.label_outer()"
   ]
  },
  {
   "cell_type": "code",
   "execution_count": 60,
   "metadata": {},
   "outputs": [
    {
     "name": "stdout",
     "output_type": "stream",
     "text": [
      "the probability for the conservative is:  0.0101\n",
      "the probability for the switcher is:  0.9899\n",
      "the probability for the newcomer is:  0.49826\n"
     ]
    }
   ],
   "source": [
    "P_cons = len(cons[cons == 0]) /  N \n",
    "P_switch = len(switch[switch == 0]) /  N \n",
    "P_new = len(new[new == 0]) /  N \n",
    "print(\"the probability for the conservative is: \", P_cons)\n",
    "print(\"the probability for the switcher is: \", P_switch)\n",
    "print(\"the probability for the newcomer is: \", P_new)"
   ]
  },
  {
   "cell_type": "code",
   "execution_count": null,
   "metadata": {},
   "outputs": [],
   "source": []
  }
 ],
 "metadata": {
  "kernelspec": {
   "display_name": "Python 3",
   "language": "python",
   "name": "python3"
  },
  "language_info": {
   "codemirror_mode": {
    "name": "ipython",
    "version": 3
   },
   "file_extension": ".py",
   "mimetype": "text/x-python",
   "name": "python",
   "nbconvert_exporter": "python",
   "pygments_lexer": "ipython3",
   "version": "3.8.6"
  }
 },
 "nbformat": 4,
 "nbformat_minor": 4
}
